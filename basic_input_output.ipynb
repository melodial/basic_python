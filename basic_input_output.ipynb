{
  "nbformat": 4,
  "nbformat_minor": 0,
  "metadata": {
    "colab": {
      "provenance": []
    },
    "kernelspec": {
      "name": "python3",
      "display_name": "Python 3"
    },
    "language_info": {
      "name": "python"
    }
  },
  "cells": [
    {
      "cell_type": "code",
      "execution_count": 5,
      "metadata": {
        "colab": {
          "base_uri": "https://localhost:8080/"
        },
        "id": "C7855ZBRGeTV",
        "outputId": "3845938a-1da1-4c36-ee3c-14bdd3285f8d"
      },
      "outputs": [
        {
          "output_type": "stream",
          "name": "stdout",
          "text": [
            "halo, nama saya melodial, umur saya 23\n"
          ]
        }
      ],
      "source": [
        "#ngeprint f-string metode 1\n",
        "nama = \"melodial\"\n",
        "umur = 23\n",
        "print(f\"halo, nama saya {nama}, umur saya {umur}\")"
      ]
    },
    {
      "cell_type": "code",
      "source": [
        "#ngeprint pake format() function metode 2\n",
        "angka = 150.25\n",
        "print(\"ini jumlahnya:Rp{:.2f}\".format(angka))"
      ],
      "metadata": {
        "colab": {
          "base_uri": "https://localhost:8080/"
        },
        "id": "FcBMWgNSKSeL",
        "outputId": "764ddcc7-5d48-4250-a476-2e21423802a9"
      },
      "execution_count": 8,
      "outputs": [
        {
          "output_type": "stream",
          "name": "stdout",
          "text": [
            "ini jumlahnya:Rp150.25\n"
          ]
        }
      ]
    },
    {
      "cell_type": "code",
      "source": [
        "#ngeprint metode 3\n",
        "nama = \"melodial\"\n",
        "umur = 23\n",
        "print(\"halo nama saya \",nama,\"umur saya: \",umur)"
      ],
      "metadata": {
        "colab": {
          "base_uri": "https://localhost:8080/"
        },
        "id": "AWmf-A0RKx2Z",
        "outputId": "cce371d6-7d20-4e51-afe8-4ce86a7741a9"
      },
      "execution_count": 9,
      "outputs": [
        {
          "output_type": "stream",
          "name": "stdout",
          "text": [
            "halo nama saya  melodial umur saya:  23\n"
          ]
        }
      ]
    },
    {
      "cell_type": "code",
      "source": [
        "#ngeprint metode 4\n",
        "# ini hampir sama dengan pake c\n",
        "# %d ->untuk integer\n",
        "# %f ->untuk float\n",
        "# %s ->untuk string\n",
        "x = 5\n",
        "y = 2\n",
        "sum = x+y\n",
        "a = 0.5\n",
        "b = 2.4\n",
        "sum2 = a+b\n",
        "str1 = \"melodial\"\n",
        "print(\"jumlahnya %d\" %sum)\n",
        "print(\"ini nama saya %s\"%str1)\n",
        "print(\"jumlah %.2f\" %sum2)"
      ],
      "metadata": {
        "colab": {
          "base_uri": "https://localhost:8080/"
        },
        "id": "1CF2CQ5KLLmi",
        "outputId": "80e29bf3-8ecd-4cb3-a39d-dacb406b196d"
      },
      "execution_count": 17,
      "outputs": [
        {
          "output_type": "stream",
          "name": "stdout",
          "text": [
            "jumlahnya 7\n",
            "ini nama saya melodial\n",
            "jumlah 2.90\n"
          ]
        }
      ]
    },
    {
      "cell_type": "code",
      "source": [
        "#function untuk mengambil inputtan dari user\n",
        "#method 1\n",
        "num = int(input(\"masukkan angka: \"))\n",
        "print(num)"
      ],
      "metadata": {
        "colab": {
          "base_uri": "https://localhost:8080/"
        },
        "id": "C--mHq2OMLBt",
        "outputId": "ccf95fb0-ee79-4cd4-abdd-b5ab6d833b17"
      },
      "execution_count": 18,
      "outputs": [
        {
          "output_type": "stream",
          "name": "stdout",
          "text": [
            "masukkan angka: 2\n",
            "2\n"
          ]
        }
      ]
    },
    {
      "cell_type": "code",
      "source": [
        "#input method 2\n",
        "#ini mengambil input secara lebih dari satu\n",
        "\n",
        "x,y = input(\"masukkan dua nilai: \").split()\n",
        "print(\"nilai pertama:\",x)\n",
        "print(\"nilai kedua:\",y)\n",
        "\n",
        "x1,y1,z = input(\"masukkan tiga nilai: \").split()\n",
        "print(\"nilai pertama:\",x1)\n",
        "print(\"nilai kedua:\",y1)\n",
        "print(\"nilai ketiga:\",z)\n"
      ],
      "metadata": {
        "colab": {
          "base_uri": "https://localhost:8080/"
        },
        "id": "QrD56LikMicT",
        "outputId": "a5e8411e-449f-4d4c-b925-eef4dbd0b3a9"
      },
      "execution_count": 23,
      "outputs": [
        {
          "output_type": "stream",
          "name": "stdout",
          "text": [
            "masukkan dua nilai: 1 2\n",
            "nilai pertama: 1\n",
            "nilai kedua: 2\n",
            "masukkan tiga nilai: 1 2 3 \n",
            "nilai pertama: 1\n",
            "nilai kedua: 2\n",
            "nilai ketiga: 3\n"
          ]
        }
      ]
    },
    {
      "cell_type": "code",
      "source": [
        "#untuk menginput string\n",
        "str1 = input(\"masukkan string:\")\n",
        "print(\"ini string \",str1)"
      ],
      "metadata": {
        "colab": {
          "base_uri": "https://localhost:8080/"
        },
        "id": "CkcqwIOGN5P5",
        "outputId": "18e5a4bf-e6fc-48a0-bc80-7c6326258f42"
      },
      "execution_count": 25,
      "outputs": [
        {
          "output_type": "stream",
          "name": "stdout",
          "text": [
            "masukkan string:halo dunia\n",
            "ini string  halo dunia\n"
          ]
        }
      ]
    },
    {
      "cell_type": "code",
      "source": [
        "#conditional input dari user\n",
        "\n",
        "input_umur = input(\"masukkan umurmu:\")\n",
        "\n",
        "#mengubah inputtan menjadi sebuah integer\n",
        "umur = int(input_umur)\n",
        "\n",
        "#melakukan conditional statement\n",
        "#keyword elif itu sama dengan else if\n",
        "if umur<0:\n",
        "  print(\"masukkan umur yang valid!\")\n",
        "elif umur < 18:\n",
        "  print(\"kamu masih kecil\")\n",
        "elif umur >= 18 and umur < 65:\n",
        "  print(\"kamu sudah dewasa\")\n",
        "else:\n",
        "  print(\"kamu senior!!\")"
      ],
      "metadata": {
        "colab": {
          "base_uri": "https://localhost:8080/"
        },
        "id": "pwmC9UCYOT0l",
        "outputId": "e845ed56-5388-44e8-d2c6-c31e0d5fe736"
      },
      "execution_count": 30,
      "outputs": [
        {
          "output_type": "stream",
          "name": "stdout",
          "text": [
            "masukkan umurmu:70\n",
            "kamu senior!!\n"
          ]
        }
      ]
    }
  ]
}