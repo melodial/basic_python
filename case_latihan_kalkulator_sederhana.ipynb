{
  "nbformat": 4,
  "nbformat_minor": 0,
  "metadata": {
    "colab": {
      "provenance": []
    },
    "kernelspec": {
      "name": "python3",
      "display_name": "Python 3"
    },
    "language_info": {
      "name": "python"
    }
  },
  "cells": [
    {
      "cell_type": "code",
      "execution_count": 11,
      "metadata": {
        "colab": {
          "base_uri": "https://localhost:8080/"
        },
        "id": "UiHzjApqShpX",
        "outputId": "a5535300-a9d2-4cb8-f49d-2ac0174e7323"
      },
      "outputs": [
        {
          "output_type": "stream",
          "name": "stdout",
          "text": [
            "selamat datang di program kalkulator sederhana:\n",
            "masukkan angka pertama dan kedua:4 2\n",
            "masukkan operasinya: 4\n",
            "hasilnya: 2.0\n"
          ]
        }
      ],
      "source": [
        "#kalkulator\n",
        "#menerima input angka(case ini dua angka cukup)\n",
        "#ada pilihan, mau perjumlahan perkalian pembagian pengurangan\n",
        "#ada hasil dari operasi diatas\n",
        "\n",
        "print(\"selamat datang di program kalkulator sederhana:\")\n",
        "angka1,angka2 = input(\"masukkan angka pertama dan kedua:\").split()\n",
        "#jadi supaya tidak eror ubah dulu variabel angka1 dan angka2 menjadi integer\n",
        "angka1 = int(angka1)\n",
        "angka2 = int(angka2)\n",
        "operasi = int(input(\"masukkan operasinya: \"))\n",
        "if operasi == 1:\n",
        "  print(\"hasilnya:\",angka1+angka2)\n",
        "elif operasi == 2:\n",
        "  print(\"hasilnya:\",angka1*angka2)\n",
        "elif operasi == 3:\n",
        "  print(\"hasilnya:\",angka1-angka2)\n",
        "elif operasi == 4:\n",
        "  print(\"hasilnya:\",angka1/angka2)\n",
        "else:\n",
        "  print(\"tidak valid!\")\n",
        "\n"
      ]
    }
  ]
}