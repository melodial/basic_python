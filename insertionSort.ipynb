{
  "nbformat": 4,
  "nbformat_minor": 0,
  "metadata": {
    "colab": {
      "provenance": []
    },
    "kernelspec": {
      "name": "python3",
      "display_name": "Python 3"
    },
    "language_info": {
      "name": "python"
    }
  },
  "cells": [
    {
      "cell_type": "code",
      "source": [
        "def insertionSort(arr,panjang):\n",
        "  for i in range(1,panjang):\n",
        "    temp = arr[i]\n",
        "    j= i-1\n",
        "    while(j>=0 and temp > arr[j]):\n",
        "      arr[j + 1] = arr[j]\n",
        "      j -=1\n",
        "      arr[j+1] = temp"
      ],
      "metadata": {
        "id": "RyvLQaCAvwEg"
      },
      "execution_count": 10,
      "outputs": []
    },
    {
      "cell_type": "code",
      "source": [
        "arr = [2,3,5,1,2,5,65,77]\n",
        "panjang = len(arr)\n",
        "insertionSort(arr,panjang)\n",
        "print(f\"sorted list{arr}\")"
      ],
      "metadata": {
        "colab": {
          "base_uri": "https://localhost:8080/"
        },
        "id": "Yxna-5Uyw6er",
        "outputId": "2cd43fb4-eac8-4b1c-874a-f63d4fbcf2b4"
      },
      "execution_count": 11,
      "outputs": [
        {
          "output_type": "stream",
          "name": "stdout",
          "text": [
            "sorted list[77, 65, 5, 5, 3, 2, 2, 1]\n"
          ]
        }
      ]
    }
  ]
}